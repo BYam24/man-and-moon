{
 "cells": [
  {
   "cell_type": "code",
   "execution_count": null,
   "id": "a6d1f6e6",
   "metadata": {},
   "outputs": [],
   "source": [
    "from ExampleSceneDef import *"
   ]
  },
  {
   "cell_type": "code",
   "execution_count": null,
   "id": "f6b4a5fb",
   "metadata": {},
   "outputs": [],
   "source": []
  },
  {
   "cell_type": "markdown",
   "id": "9c95e9a5",
   "metadata": {},
   "source": [
    "### Step 0\n",
    "When you have completed Step 0 your the image below should look like:\n",
    "![Step0](./ref/step0.png)"
   ]
  },
  {
   "cell_type": "code",
   "execution_count": null,
   "id": "a98a17ae",
   "metadata": {},
   "outputs": [],
   "source": [
    "im = OrthoFriendlyExample().render()\n",
    "im.show()\n",
    "# im.writeToFile(\"OrthoFriendlyExample.png\")"
   ]
  },
  {
   "cell_type": "code",
   "execution_count": null,
   "id": "6955ddb5",
   "metadata": {},
   "outputs": [],
   "source": []
  },
  {
   "cell_type": "markdown",
   "id": "71215446",
   "metadata": {},
   "source": [
    "### Step 1\n",
    "When you have completed Step 0 your the image below should look like:\n",
    "![Step1](./ref/step1.png)"
   ]
  },
  {
   "cell_type": "code",
   "execution_count": null,
   "id": "ae1211ee",
   "metadata": {},
   "outputs": [],
   "source": [
    "im = TwoSpheresExample().render(output_shape = [144,256])\n",
    "im.show()\n",
    "\n",
    "# ref = Image(path=\"./ref/step1.png\").GetFloatCopy();\n",
    "# ref.show()\n",
    "# print(\"Max diff with reference is {}\".format(np.abs(ref.pixels-im.pixels).max()))"
   ]
  },
  {
   "cell_type": "code",
   "execution_count": null,
   "id": "32b21532",
   "metadata": {},
   "outputs": [],
   "source": []
  },
  {
   "cell_type": "markdown",
   "id": "4897cd3c",
   "metadata": {},
   "source": [
    "### Step 2-7\n",
    "See the [assignment docs](https://www.cs.cornell.edu/courses/cs4620/2023fa/assignments/docs/category/assignment-4)"
   ]
  },
  {
   "cell_type": "code",
   "execution_count": null,
   "id": "c18eddda",
   "metadata": {},
   "outputs": [],
   "source": [
    "im = TwoSpheresExample().render(output_shape = [144,256])\n",
    "im.show()"
   ]
  },
  {
   "cell_type": "code",
   "execution_count": null,
   "id": "5bb41022",
   "metadata": {},
   "outputs": [],
   "source": [
    "im = ThreeSpheresExample().render(output_shape = [144,256])\n",
    "im.show()"
   ]
  },
  {
   "cell_type": "code",
   "execution_count": null,
   "id": "6a726bb7",
   "metadata": {},
   "outputs": [],
   "source": []
  }
 ],
 "metadata": {
  "kernelspec": {
   "display_name": "Python 3 (ipykernel)",
   "language": "python",
   "name": "python3"
  },
  "language_info": {
   "codemirror_mode": {
    "name": "ipython",
    "version": 3
   },
   "file_extension": ".py",
   "mimetype": "text/x-python",
   "name": "python",
   "nbconvert_exporter": "python",
   "pygments_lexer": "ipython3",
   "version": "3.10.0"
  }
 },
 "nbformat": 4,
 "nbformat_minor": 5
}
